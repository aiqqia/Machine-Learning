{
  "nbformat": 4,
  "nbformat_minor": 0,
  "metadata": {
    "colab": {
      "name": "Minor 2 SunitJalan.ipynb",
      "provenance": [],
      "collapsed_sections": []
    },
    "kernelspec": {
      "name": "python3",
      "display_name": "Python 3"
    },
    "language_info": {
      "name": "python"
    }
  },
  "cells": [
    {
      "cell_type": "code",
      "metadata": {
        "id": "UidgoYgTy5oA"
      },
      "source": [
        "from keras.models import Sequential\n",
        "from keras.layers import Conv2D\n",
        "from keras.layers import MaxPooling2D\n",
        "from keras.layers import Flatten\n",
        "from keras.layers import Dense"
      ],
      "execution_count": 1,
      "outputs": []
    },
    {
      "cell_type": "code",
      "metadata": {
        "id": "j0KO_XXUy_Vj"
      },
      "source": [
        "model = Sequential()\n",
        "\n",
        "model.add(Conv2D(32, (3, 3), input_shape = (50, 50, 3), activation = 'relu'))\n",
        "\n",
        "model.add(MaxPooling2D(pool_size = (2, 2)))\n",
        "\n",
        "model.add(Conv2D(32, (3, 3), activation = 'relu'))\n",
        "model.add(MaxPooling2D(pool_size = (2, 2)))\n",
        "\n",
        "model.add(Flatten())\n",
        "\n",
        "model.add(Dense(units = 128, activation = 'relu'))\n",
        "model.add(Dense(units = 1, activation = 'sigmoid'))\n",
        "\n",
        "model.compile(optimizer = 'adam', loss = 'binary_crossentropy', metrics = ['accuracy'])\n"
      ],
      "execution_count": 2,
      "outputs": []
    },
    {
      "cell_type": "code",
      "metadata": {
        "id": "_2TIWJ1WzOpQ"
      },
      "source": [
        "from keras.preprocessing.image import ImageDataGenerator\n",
        "\n",
        "train_datagen = ImageDataGenerator(rescale = 1./255,\n",
        "                                   shear_range = 0.2,\n",
        "                                   zoom_range = 0.2,\n",
        "                                   horizontal_flip = True)\n"
      ],
      "execution_count": 3,
      "outputs": []
    },
    {
      "cell_type": "code",
      "metadata": {
        "id": "7Syh1NZizW_B"
      },
      "source": [
        "training_set = train_datagen.flow_from_directory('/content/drive/MyDive/dogs-vs-cats.zip/train',\n",
        "                                                 target_size = (50, 50),\n",
        "                                                 batch_size = 32,\n",
        "                                                 class_mode = 'binary')\n",
        "\n",
        "test_set = test_datagen.flow_from_directory('D:/CSE/Machine-Learning/Simple\\Classification/test',\n",
        "                                           target_size = (50,50),\n",
        "                                           batch_size = 32,\n",
        "                                           class_mode ='binary')\n",
        "\n",
        "\n",
        "model.fit_generator(training_set,\n",
        "                    steps_per_epoch = 3000,\n",
        "                    epochs = 30,\n",
        "                    validation_data = test_set\n",
        "                    validation_steps = 2500)\n",
        "\n",
        "import numpy as np\n",
        "from keras.preprocessing import image\n",
        "test_image =image.load_img('img.jpg',target_size =(50,50))\n",
        "test_image =image.img_to_array(test_image)\n",
        "test_image =np.expand_dims(test_image, axis =0)\n",
        "result = classifier.predict(test_image)\n",
        "if result[0][0] >= 0.5:\n",
        "    prediction = 'dog'\n",
        "else:\n",
        "    prediction = 'cat'\n",
        "print(prediction)\n",
        "\n",
        "print(\"Classifier trained Successfully!\")"
      ],
      "execution_count": 1,
      "outputs": []
    }
  ]
}