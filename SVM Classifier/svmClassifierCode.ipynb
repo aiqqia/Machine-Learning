{
 "cells": [
  {
   "cell_type": "code",
   "execution_count": 1,
   "metadata": {
    "id": "m6UQ-yCx8Awl"
   },
   "outputs": [],
   "source": [
    "import numpy as np\n",
    "import matplotlib.pyplot as plt\n",
    "from sklearn import datasets"
   ]
  },
  {
   "cell_type": "code",
   "execution_count": 23,
   "metadata": {
    "colab": {
     "base_uri": "https://localhost:8080/"
    },
    "id": "EpbCwy-H86uv",
    "outputId": "1bd4c3d0-c666-4459-c64e-592f3aa85de3"
   },
   "outputs": [
    {
     "data": {
      "text/plain": [
       "array([ 1,  1, -1,  1, -1, -1,  1, -1,  1, -1,  1,  1, -1,  1,  1,  1,  1,\n",
       "        1,  1,  1, -1, -1, -1, -1, -1, -1, -1, -1, -1, -1,  1,  1, -1, -1,\n",
       "        1, -1,  1, -1,  1,  1, -1, -1,  1,  1,  1, -1, -1,  1,  1, -1])"
      ]
     },
     "execution_count": 23,
     "metadata": {},
     "output_type": "execute_result"
    }
   ],
   "source": [
    "X,y = datasets.make_blobs(n_samples=50, n_features=2, centers=2, cluster_std=1.05, random_state=40)\n",
    "y= np.where(y == 0, -1, 1)\n",
    "y"
   ]
  },
  {
   "cell_type": "code",
   "execution_count": 24,
   "metadata": {
    "colab": {
     "base_uri": "https://localhost:8080/"
    },
    "id": "J6Xo6B0k_9fe",
    "outputId": "e78b9e41-a37e-4bb4-f8ef-01ed64980fe7"
   },
   "outputs": [
    {
     "data": {
      "text/plain": [
       "(50, 2)"
      ]
     },
     "execution_count": 24,
     "metadata": {},
     "output_type": "execute_result"
    }
   ],
   "source": [
    "X.shape"
   ]
  },
  {
   "cell_type": "code",
   "execution_count": 35,
   "metadata": {
    "id": "V3Ceb6NDAGKj"
   },
   "outputs": [],
   "source": [
    "class SVM:\n",
    "\n",
    "  def __init__(self,learning_rate=0.001,lambda_param=0.01,iters=10000):\n",
    "    self.lr = learning_rate\n",
    "    self.lambda_param= lambda_param\n",
    "    self.iters=iters\n",
    "    self.w=None\n",
    "    self.b=None\n",
    "\n",
    "  def fit(self,X,y):\n",
    "    y_= np.where(y <= 0, -1, 1)\n",
    "    n_samples,n_features= X.shape\n",
    "    \n",
    "    self.w = np.zeros(n_features)\n",
    "    self.b=0\n",
    "\n",
    "    for i in range(self.iters):\n",
    "      for idx, x_i in enumerate(X):\n",
    "        condition = y_[idx] * (np.dot(x_i,self.w) - self.b) >= 1\n",
    "        if condition:\n",
    "          self.w -= self.lr * (2* self.lambda_param * self.w)\n",
    "        else:\n",
    "          self.w -= self.lr * (2* self.lambda_param * self.w - np.dot(x_i, y_[idx]))\n",
    "          self.b -= self.lr * y_[idx]\n",
    "\n",
    "  def predict(self,X):\n",
    "    linear_out = np.dot(X,self.w) - self.b\n",
    "    return np.sign(linear_out)"
   ]
  },
  {
   "cell_type": "code",
   "execution_count": 36,
   "metadata": {
    "id": "ZBWh4S6xClxm"
   },
   "outputs": [],
   "source": [
    "clf = SVM()\n",
    "clf.fit(X,y)"
   ]
  },
  {
   "cell_type": "code",
   "execution_count": 37,
   "metadata": {
    "colab": {
     "base_uri": "https://localhost:8080/"
    },
    "id": "L6tf1DJtCt3j",
    "outputId": "db6fdcc1-4fad-4196-fff4-aa937153791f"
   },
   "outputs": [
    {
     "name": "stdout",
     "output_type": "stream",
     "text": [
      "[0.45257302 0.25017548] -0.8350000000000006\n"
     ]
    }
   ],
   "source": [
    "print(clf.w, clf.b)"
   ]
  },
  {
   "cell_type": "code",
   "execution_count": null,
   "metadata": {},
   "outputs": [],
   "source": [
    "visualize_svm()"
   ]
  }
 ],
 "metadata": {
  "colab": {
   "name": "Minor4_SunitJalan.ipynb",
   "provenance": []
  },
  "kernelspec": {
   "display_name": "Python 3",
   "language": "python",
   "name": "python3"
  },
  "language_info": {
   "codemirror_mode": {
    "name": "ipython",
    "version": 3
   },
   "file_extension": ".py",
   "mimetype": "text/x-python",
   "name": "python",
   "nbconvert_exporter": "python",
   "pygments_lexer": "ipython3",
   "version": "3.7.4"
  }
 },
 "nbformat": 4,
 "nbformat_minor": 1
}
